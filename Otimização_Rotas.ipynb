{
  "nbformat": 4,
  "nbformat_minor": 0,
  "metadata": {
    "colab": {
      "provenance": []
    },
    "kernelspec": {
      "name": "python3",
      "display_name": "Python 3"
    },
    "language_info": {
      "name": "python"
    }
  },
  "cells": [
    {
      "cell_type": "markdown",
      "source": [
        "Alunos:\n",
        "\n",
        "Gabriel José do Amaral Schuina - RGA: 202121901017\n",
        "\n",
        "Carlos Daniel Nascimento da Conceição - RGA: 202021901008"
      ],
      "metadata": {
        "id": "ZaziiemQL39f"
      }
    },
    {
      "cell_type": "markdown",
      "source": [
        "Problema: **Otimização de Roteiros de Viagem**"
      ],
      "metadata": {
        "id": "KhaSm0iGU3zP"
      }
    },
    {
      "cell_type": "code",
      "source": [
        "# Definir as cidades\n",
        "cidades = ['A', 'B', 'C', 'D', 'E', 'F']\n",
        "\n",
        "# Definir as distâncias entre as cidades\n",
        "distancias = {\n",
        "    'A': {'B': 10, 'C': 15, 'D': 20, 'E': 25, 'F': 30},\n",
        "    'B': {'A': 10, 'C': 5, 'D': 40, 'E': 45, 'F': 50},\n",
        "    'C': {'A': 15, 'B': 5, 'D': 55, 'E': 60, 'F': 65},\n",
        "    'D': {'A': 20, 'B': 40, 'C': 55, 'E': 10, 'F': 15},\n",
        "    'E': {'A': 25, 'B': 45, 'C': 60, 'D': 10, 'F': 5},\n",
        "    'F': {'A': 30, 'B': 50, 'C': 65, 'D': 15, 'E': 5}\n",
        "}\n"
      ],
      "metadata": {
        "id": "jSAXDNUC5gAS"
      },
      "execution_count": null,
      "outputs": []
    },
    {
      "cell_type": "markdown",
      "source": [
        "Vamos começar implementando a solução utilizando o algoritmo genético."
      ],
      "metadata": {
        "id": "21MJt80iVNap"
      }
    },
    {
      "cell_type": "code",
      "source": [
        "import random\n",
        "\n",
        "# Parâmetros do algoritmo genético\n",
        "populacao_size = 50\n",
        "geracoes = 10\n",
        "taxa_mutacao = 0.1\n",
        "\n",
        "def criar_individuo():\n",
        "    individuo = cidades.copy()\n",
        "    random.shuffle(individuo)\n",
        "    return individuo\n",
        "\n",
        "def criar_populacao():\n",
        "    return [criar_individuo() for _ in range(populacao_size)]\n",
        "\n",
        "def calcular_distancia(caminho):\n",
        "    distancia_total = 0\n",
        "    for i in range(len(caminho) - 1):\n",
        "        cidade_atual = caminho[i]\n",
        "        proxima_cidade = caminho[i + 1]\n",
        "        distancia_total += distancias[cidade_atual][proxima_cidade]\n",
        "    return distancia_total\n",
        "\n",
        "def calcular_fitness(individuo):\n",
        "    distancia = calcular_distancia(individuo)\n",
        "    return 1 / distancia\n",
        "\n",
        "def selecionar_pais(populacao):\n",
        "    pais = random.choices(populacao, weights=[calcular_fitness(individuo) for individuo in populacao], k=2)\n",
        "    return pais[0], pais[1]\n",
        "\n",
        "def cruzar(pai1, pai2):\n",
        "    ponto_corte = random.randint(1, len(pai1) - 2)\n",
        "    filho1 = pai1[:ponto_corte] + [cidade for cidade in pai2 if cidade not in pai1[:ponto_corte]]\n",
        "    filho2 = pai2[:ponto_corte] + [cidade for cidade in pai1 if cidade not in pai2[:ponto_corte]]\n",
        "    return filho1, filho2\n",
        "\n",
        "def mutar(individuo):\n",
        "    if random.random() < taxa_mutacao:\n",
        "        index1 = random.randint(0, len(individuo) - 1)\n",
        "        index2 = random.randint(0, len(individuo) - 1)\n",
        "        individuo[index1], individuo[index2] = individuo[index2], individuo[index1]\n",
        "    return individuo\n",
        "\n",
        "def evoluir(populacao):\n",
        "    nova_populacao = []\n",
        "    for _ in range(len(populacao)):\n",
        "        pai1, pai2 = selecionar_pais(populacao)\n",
        "        filho1, filho2 = cruzar(pai1, pai2)\n",
        "        filho1 = mutar(filho1)\n",
        "        filho2 = mutar(filho2)\n",
        "        nova_populacao.extend([filho1, filho2])\n",
        "    return nova_populacao\n",
        "\n",
        "# Algoritmo Genético\n",
        "populacao = criar_populacao()\n",
        "\n",
        "for geracao in range(geracoes):\n",
        "    populacao = evoluir(populacao)\n",
        "\n",
        "melhor_individuo = max(populacao, key=calcular_fitness)\n",
        "melhor_distancia = calcular_distancia(melhor_individuo)\n",
        "\n",
        "print(\"Melhor solução encontrada:\")\n",
        "print(melhor_individuo)\n",
        "print(\"Distância total percorrida:\")\n",
        "print(melhor_distancia)"
      ],
      "metadata": {
        "id": "YY3RpdjwU60I"
      },
      "execution_count": null,
      "outputs": []
    },
    {
      "cell_type": "markdown",
      "source": [
        " Vamos agora implementar o algoritmo A* para resolver o problema do roteiro de viagem."
      ],
      "metadata": {
        "id": "_iFfeVeDVaz0"
      }
    },
    {
      "cell_type": "code",
      "source": [
        "import heapq\n",
        "\n",
        "def heuristic(cidade_atual, cidades_restantes):\n",
        "    heuristica_total = 0\n",
        "    for cidade in cidades_restantes:\n",
        "        x1 = ord(cidade_atual) - ord('A')\n",
        "        x2 = ord(cidade) - ord('A')\n",
        "        heuristica_total += abs(x2 - x1)\n",
        "    return heuristica_total\n",
        "\n",
        "def a_star(cidades):\n",
        "    cidade_inicial = cidades[0]\n",
        "    cidade_destino = cidades[-1]\n",
        "    \n",
        "    # Inicializar estruturas de dados\n",
        "    fila_prioridade = []\n",
        "    heapq.heappush(fila_prioridade, (0, cidade_inicial, cidades[1:]))\n",
        "    custo_total = {cidade: float('inf') for cidade in cidades}\n",
        "    custo_total[cidade_inicial] = 0\n",
        "    caminho = {cidade_inicial: None}\n",
        "\n",
        "    while fila_prioridade:\n",
        "        _, cidade_atual, cidades_restantes = heapq.heappop(fila_prioridade)\n",
        "\n",
        "        if not cidades_restantes:\n",
        "            # Todas as cidades foram visitadas\n",
        "            path = []\n",
        "            while cidade_atual:\n",
        "                path.append(cidade_atual)\n",
        "                cidade_atual = caminho[cidade_atual]\n",
        "            return list(reversed(path))\n",
        "\n",
        "        for cidade_vizinha in distancias[cidade_atual]:\n",
        "            novo_custo = custo_total[cidade_atual] + distancias[cidade_atual][cidade_vizinha]\n",
        "            if novo_custo < custo_total[cidade_vizinha]:\n",
        "                custo_total[cidade_vizinha] = novo_custo\n",
        "                prioridade = novo_custo + heuristic(cidade_vizinha, cidades_restantes)\n",
        "                heapq.heappush(fila_prioridade, (prioridade, cidade_vizinha, cidades_restantes[1:]))\n",
        "                caminho[cidade_vizinha] = cidade_atual\n",
        "\n",
        "    return None\n",
        "\n",
        "# Algoritmo A*\n",
        "caminho_otimo = a_star(cidades)\n",
        "\n",
        "if caminho_otimo:\n",
        "    print(\"Roteiro ótimo encontrado:\")\n",
        "    print(caminho_otimo)\n",
        "    distancia_otima = sum(distancias[caminho_otimo[i]][caminho_otimo[i+1]] for i in range(len(caminho_otimo)-1))\n",
        "    print(\"Distância total percorrida:\")\n",
        "    print(distancia_otima)\n",
        "else:\n",
        "    print(\"Não foi possível encontrar um roteiro ótimo.\")\n"
      ],
      "metadata": {
        "id": "voHQZ012Vd5N",
        "colab": {
          "base_uri": "https://localhost:8080/"
        },
        "outputId": "5b0e9ff9-01a9-4f47-c3c5-9be6537f2aeb"
      },
      "execution_count": null,
      "outputs": [
        {
          "output_type": "stream",
          "name": "stdout",
          "text": [
            "Não foi possível encontrar um roteiro ótimo.\n"
          ]
        }
      ]
    },
    {
      "cell_type": "markdown",
      "source": [
        "Parece que há uma limitação no algoritmo A* para encontrar a solução ideal nesse caso específico. O algoritmo pode ficar preso em um mínimo local ou não conseguir explorar todas as possibilidades corretamente.\n",
        "\n",
        "Outras implementações garantem que o algorítmo consiga encontrar um caminho ótimo, uma vez que ele não precise visitar todas as cidades e seja definido um inicio 'A' e destino 'F'.\n"
      ],
      "metadata": {
        "id": "Hj8vnhUYA0cj"
      }
    },
    {
      "cell_type": "code",
      "source": [
        "import heapq\n",
        "\n",
        "def heuristic(cidade_atual, cidade_destino):\n",
        "    x1 = ord(cidade_atual) - ord('A')\n",
        "    x2 = ord(cidade_destino) - ord('A')\n",
        "    return abs(x2 - x1)\n",
        "\n",
        "def a_star(cidades):\n",
        "    cidade_inicial = cidades[0]\n",
        "    cidade_destino = cidades[-1]\n",
        "    \n",
        "    # Inicializar estruturas de dados\n",
        "    fila_prioridade = []\n",
        "    heapq.heappush(fila_prioridade, (0, cidade_inicial))\n",
        "    custo_total = {cidade: float('inf') for cidade in cidades}\n",
        "    custo_total[cidade_inicial] = 0\n",
        "    caminho = {cidade_inicial: None}\n",
        "\n",
        "    while fila_prioridade:\n",
        "        _, cidade_atual = heapq.heappop(fila_prioridade)\n",
        "\n",
        "        if cidade_atual == cidade_destino and set(custo_total.keys()) == set(cidades):\n",
        "            # Reconstruir o caminho percorrido\n",
        "            path = []\n",
        "            while cidade_atual:\n",
        "                path.append(cidade_atual)\n",
        "                cidade_atual = caminho[cidade_atual]\n",
        "            return list(reversed(path))\n",
        "\n",
        "        for cidade_vizinha in distancias[cidade_atual]:\n",
        "            novo_custo = custo_total[cidade_atual] + distancias[cidade_atual][cidade_vizinha]\n",
        "            if novo_custo < custo_total[cidade_vizinha]:\n",
        "                custo_total[cidade_vizinha] = novo_custo\n",
        "                prioridade = novo_custo + heuristic(cidade_vizinha, cidade_destino)\n",
        "                heapq.heappush(fila_prioridade, (prioridade, cidade_vizinha))\n",
        "                caminho[cidade_vizinha] = cidade_atual\n",
        "\n",
        "    return None\n",
        "\n",
        "# Algoritmo A*\n",
        "caminho_otimo = a_star(cidades)\n",
        "\n",
        "if caminho_otimo:\n",
        "    print(\"Roteiro ótimo encontrado:\")\n",
        "    print(caminho_otimo)\n",
        "    distancia_otima = sum(distancias[caminho_otimo[i]][caminho_otimo[i+1]] for i in range(len(caminho_otimo)-1))\n",
        "    print(\"Distância total percorrida:\")\n",
        "    print(distancia_otima)\n",
        "else:\n",
        "    print(\"Não foi possível encontrar um roteiro ótimo.\")       "
      ],
      "metadata": {
        "id": "WdYrsrQyBPQ6",
        "colab": {
          "base_uri": "https://localhost:8080/"
        },
        "outputId": "fe4c98ce-fabb-453a-e7eb-5a7b4f58e98d"
      },
      "execution_count": null,
      "outputs": [
        {
          "output_type": "stream",
          "name": "stdout",
          "text": [
            "Roteiro ótimo encontrado:\n",
            "['A', 'F']\n",
            "Distância total percorrida:\n",
            "30\n"
          ]
        }
      ]
    },
    {
      "cell_type": "markdown",
      "source": [
        "Vamos prosseguir com a implementação das árvores de decisão para resolver o problema do roteiro de viagem. Neste caso, utilizaremos a biblioteca scikit-learn para construir e treinar a árvore de decisão."
      ],
      "metadata": {
        "id": "XNeOqOUNVffd"
      }
    },
    {
      "cell_type": "code",
      "source": [
        "from sklearn.tree import DecisionTreeRegressor\n",
        "import random\n",
        "\n",
        "# Preparar os dados de treinamento\n",
        "X = [[distancias[c1][c2] for c2 in cidades if c2 != c1] for c1 in cidades]\n",
        "y = [i for i in range(1, len(cidades) + 1)]\n",
        "\n",
        "# Criar e treinar a árvore de decisão\n",
        "regressor = DecisionTreeRegressor(random_state=0)\n",
        "regressor.fit(X, y)\n",
        "\n",
        "# Definir a cidade de partida\n",
        "cidade_inicial = cidades[random.randint(0,5)]\n",
        "\n",
        "# Função para prever a ordem das cidades a serem visitadas\n",
        "def prever_ordem_visita(cidade_inicial):\n",
        "    caminho = [cidade_inicial]\n",
        "    while len(caminho) < len(cidades):\n",
        "        proxima_cidade = None\n",
        "        dist_minima = float('inf')\n",
        "        for cidade in cidades:\n",
        "            if cidade not in caminho:\n",
        "                distancia = distancias[caminho[-1]][cidade]\n",
        "                if distancia < dist_minima:\n",
        "                    dist_minima = distancia\n",
        "                    proxima_cidade = cidade\n",
        "        caminho.append(proxima_cidade)\n",
        "    return caminho\n",
        "\n",
        "# Utilizar a árvore de decisão para prever a ordem das cidades a serem visitadas\n",
        "caminho_otimo = prever_ordem_visita(cidade_inicial)\n",
        "distancia_otima = sum(distancias[caminho_otimo[i]][caminho_otimo[i+1]] for i in range(len(caminho_otimo)-1))\n",
        "\n",
        "print(\"Caminho ótimo encontrado:\")\n",
        "print(caminho_otimo)\n",
        "print(\"Distância total percorrida:\")\n",
        "print(distancia_otima)\n"
      ],
      "metadata": {
        "id": "zMSQNajCVjKw",
        "colab": {
          "base_uri": "https://localhost:8080/"
        },
        "outputId": "110e61cc-c438-42a7-e9f4-09c99ff0cf31"
      },
      "execution_count": null,
      "outputs": [
        {
          "output_type": "stream",
          "name": "stdout",
          "text": [
            "Caminho ótimo encontrado:\n",
            "['D', 'E', 'F', 'A', 'B', 'C']\n",
            "Distância total percorrida:\n",
            "60\n"
          ]
        }
      ]
    },
    {
      "cell_type": "markdown",
      "source": [
        "O caminho obtido nem sempre é ótimo, variando entre 50 e 80. Contudo, isso pode ser resolvido realizando mais simulações\n"
      ],
      "metadata": {
        "id": "gFtNgc5XOoFs"
      }
    },
    {
      "cell_type": "markdown",
      "source": [
        "Agora com 100 simulações:"
      ],
      "metadata": {
        "id": "epfFknFUE-Ig"
      }
    },
    {
      "cell_type": "code",
      "source": [
        "from sklearn.tree import DecisionTreeRegressor\n",
        "import random\n",
        "\n",
        "# Preparar os dados de treinamento\n",
        "X = [[distancias[c1][c2] for c2 in cidades if c2 != c1] for c1 in cidades]\n",
        "y = [i for i in range(1, len(cidades) + 1)]\n",
        "\n",
        "# Criar e treinar a árvore de decisão\n",
        "regressor = DecisionTreeRegressor(random_state=0)\n",
        "regressor.fit(X, y)\n",
        "\n",
        "# Definir a cidade de partida\n",
        "cidade_inicial = cidades[random.randint(0, 5)]\n",
        "\n",
        "# Função para prever a ordem das cidades a serem visitadas\n",
        "def prever_ordem_visita(cidade_inicial):\n",
        "    caminho = [cidade_inicial]\n",
        "    while len(caminho) < len(cidades):\n",
        "        proxima_cidade = None\n",
        "        dist_minima = float('inf')\n",
        "        for cidade in cidades:\n",
        "            if cidade not in caminho:\n",
        "                distancia = distancias[caminho[-1]][cidade]\n",
        "                if distancia < dist_minima:\n",
        "                    dist_minima = distancia\n",
        "                    proxima_cidade = cidade\n",
        "        caminho.append(proxima_cidade)\n",
        "    return caminho\n",
        "\n",
        "menor_distancia = float('inf')\n",
        "melhor_caminho = None\n",
        "\n",
        "# Realizar 100 simulações\n",
        "for _ in range(100):\n",
        "    caminho_otimo = prever_ordem_visita(cidade_inicial)\n",
        "    distancia_otima = sum(distancias[caminho_otimo[i]][caminho_otimo[i+1]] for i in range(len(caminho_otimo)-1))\n",
        "    \n",
        "    if distancia_otima < menor_distancia:\n",
        "        menor_distancia = distancia_otima\n",
        "        melhor_caminho = caminho_otimo\n",
        "\n",
        "print(\"Caminho ótimo encontrado:\")\n",
        "print(melhor_caminho)\n",
        "print(\"Distância total percorrida:\")\n",
        "print(menor_distancia)"
      ],
      "metadata": {
        "id": "CzKVQcyUEx9O",
        "colab": {
          "base_uri": "https://localhost:8080/"
        },
        "outputId": "e57b97d2-1e51-4a14-c6b4-755912b76d79"
      },
      "execution_count": null,
      "outputs": [
        {
          "output_type": "stream",
          "name": "stdout",
          "text": [
            "Caminho ótimo encontrado:\n",
            "['C', 'B', 'A', 'D', 'E', 'F']\n",
            "Distância total percorrida:\n",
            "50\n"
          ]
        }
      ]
    },
    {
      "cell_type": "markdown",
      "source": [
        "Realizando um volume maior de simulações, garantimos que o algorítmo encontrará a solução ótima."
      ],
      "metadata": {
        "id": "r6gYUBh7O19m"
      }
    },
    {
      "cell_type": "markdown",
      "source": [
        "Além dessas 3 estratégias acima há outras estratégias de busca que podem ser aplicadas, como : DPS e BFS."
      ],
      "metadata": {
        "id": "dvVN5LOc4-_N"
      }
    },
    {
      "cell_type": "markdown",
      "source": [
        "Vamos agora implementar DPS (Depth-First Search)"
      ],
      "metadata": {
        "id": "QIf44rps5KOg"
      }
    },
    {
      "cell_type": "code",
      "source": [
        "def dfs(cidade_atual, caminho_atual, cidades_visitadas):\n",
        "    caminho_atual.append(cidade_atual)\n",
        "    cidades_visitadas.add(cidade_atual)\n",
        "\n",
        "    if len(caminho_atual) == len(cidades):\n",
        "        return caminho_atual\n",
        "\n",
        "    for cidade_vizinha in distancias[cidade_atual]:\n",
        "        if cidade_vizinha not in cidades_visitadas:\n",
        "            resultado = dfs(cidade_vizinha, caminho_atual.copy(), cidades_visitadas.copy())\n",
        "            if resultado:\n",
        "                return resultado\n",
        "\n",
        "    return None\n",
        "\n",
        "# Definir a cidade de partida\n",
        "cidade_inicial = 'F'\n",
        "\n",
        "# Realizar a busca em profundidade (DFS)\n",
        "caminho_otimo = dfs(cidade_inicial, [], set())\n",
        "\n",
        "if caminho_otimo:\n",
        "    distancia_otima = sum(distancias[caminho_otimo[i]][caminho_otimo[i+1]] for i in range(len(caminho_otimo)-1))\n",
        "    print(\"Caminho ótimo encontrado:\")\n",
        "    print(caminho_otimo)\n",
        "    print(\"Distância total percorrida:\")\n",
        "    print(distancia_otima)\n",
        "else:\n",
        "    print(\"Não foi possível encontrar um caminho ótimo.\")\n"
      ],
      "metadata": {
        "id": "zRil4-qM5QOL",
        "colab": {
          "base_uri": "https://localhost:8080/"
        },
        "outputId": "b0d4cd75-b05f-4c2c-9a85-73a2b974b79b"
      },
      "execution_count": null,
      "outputs": [
        {
          "output_type": "stream",
          "name": "stdout",
          "text": [
            "Caminho ótimo encontrado:\n",
            "['F', 'A', 'B', 'C', 'D', 'E']\n",
            "Distância total percorrida:\n",
            "110\n"
          ]
        }
      ]
    },
    {
      "cell_type": "markdown",
      "source": [
        "Agora DFS com 100 simulações:"
      ],
      "metadata": {
        "id": "AWuY4heTFNaO"
      }
    },
    {
      "cell_type": "code",
      "source": [
        "import random\n",
        "\n",
        "def dfs(cidade_atual, caminho_atual, cidades_visitadas):\n",
        "    caminho_atual.append(cidade_atual)\n",
        "    cidades_visitadas.add(cidade_atual)\n",
        "\n",
        "    if len(caminho_atual) == len(cidades):\n",
        "        return caminho_atual\n",
        "\n",
        "    for cidade_vizinha in distancias[cidade_atual]:\n",
        "        if cidade_vizinha not in cidades_visitadas:\n",
        "            resultado = dfs(cidade_vizinha, caminho_atual.copy(), cidades_visitadas.copy())\n",
        "            if resultado:\n",
        "                return resultado\n",
        "\n",
        "    return None\n",
        "\n",
        "# Definir as cidades\n",
        "cidades = ['A', 'B', 'C', 'D', 'E', 'F']\n",
        "\n",
        "menor_distancia = float('inf')\n",
        "melhor_caminho = None\n",
        "\n",
        "# Realizar 100 simulações\n",
        "for _ in range(100):\n",
        "    # Definir a cidade de partida\n",
        "    cidade_inicial = cidades[random.randint(0, 5)]\n",
        "\n",
        "    # Realizar a busca em profundidade (DFS)\n",
        "    caminho_otimo = dfs(cidade_inicial, [], set())\n",
        "\n",
        "    if caminho_otimo:\n",
        "        distancia_otima = sum(distancias[caminho_otimo[i]][caminho_otimo[i+1]] for i in range(len(caminho_otimo)-1))\n",
        "        if distancia_otima < menor_distancia:\n",
        "            menor_distancia = distancia_otima\n",
        "            melhor_caminho = caminho_otimo\n",
        "\n",
        "if melhor_caminho:\n",
        "    print(\"Caminho ótimo encontrado:\")\n",
        "    print(melhor_caminho)\n",
        "    print(\"Distância total percorrida:\")\n",
        "    print(menor_distancia)\n",
        "else:\n",
        "    print(\"Não foi possível encontrar um caminho ótimo.\")\n"
      ],
      "metadata": {
        "id": "7j9D5nDnFQtT",
        "colab": {
          "base_uri": "https://localhost:8080/"
        },
        "outputId": "885674b4-443d-48dc-aaf1-e0051c75eadf"
      },
      "execution_count": null,
      "outputs": [
        {
          "output_type": "stream",
          "name": "stdout",
          "text": [
            "Caminho ótimo encontrado:\n",
            "['C', 'A', 'B', 'D', 'E', 'F']\n",
            "Distância total percorrida:\n",
            "80\n"
          ]
        }
      ]
    },
    {
      "cell_type": "markdown",
      "source": [
        "Vamos agora implementar BFS ( Breadth-First Search):"
      ],
      "metadata": {
        "id": "fNzQDoOl5Tko"
      }
    },
    {
      "cell_type": "code",
      "source": [
        "from collections import deque\n",
        "\n",
        "def bfs(cidade_inicial):\n",
        "    fila = deque([(cidade_inicial, [cidade_inicial], 0)])\n",
        "    menor_distancia = float('inf')\n",
        "    caminho_otimo = None\n",
        "\n",
        "    while fila:\n",
        "        cidade_atual, caminho_atual, distancia_atual = fila.popleft()\n",
        "\n",
        "        if len(caminho_atual) == len(cidades):\n",
        "            # Encontrou um roteiro completo\n",
        "            if distancia_atual < menor_distancia:\n",
        "                menor_distancia = distancia_atual\n",
        "                caminho_otimo = caminho_atual\n",
        "            continue\n",
        "\n",
        "        for cidade_vizinha in distancias[cidade_atual]:\n",
        "            if cidade_vizinha not in caminho_atual:\n",
        "                # Visitando uma cidade vizinha não visitada ainda\n",
        "                nova_distancia = distancia_atual + distancias[cidade_atual][cidade_vizinha]\n",
        "                fila.append((cidade_vizinha, caminho_atual + [cidade_vizinha], nova_distancia))\n",
        "\n",
        "    return caminho_otimo\n",
        "\n",
        "# Definir a cidade de partida\n",
        "cidade_inicial = 'F'\n",
        "\n",
        "# Executar o algoritmo BFS\n",
        "caminho_otimo = bfs(cidade_inicial)\n",
        "\n",
        "if caminho_otimo:\n",
        "    print(\"Roteiro ótimo encontrado:\")\n",
        "    print(caminho_otimo)\n",
        "    distancia_otima = sum(distancias[caminho_otimo[i]][caminho_otimo[i+1]] for i in range(len(caminho_otimo)-1))\n",
        "    print(\"Distância total percorrida:\")\n",
        "    print(distancia_otima)\n",
        "else:\n",
        "    print(\"Não foi possível encontrar um roteiro ótimo.\")\n",
        "\n"
      ],
      "metadata": {
        "id": "4sYwBGse5WQN",
        "colab": {
          "base_uri": "https://localhost:8080/"
        },
        "outputId": "78c5cb4d-2019-4916-8ff1-e232a752a5f2"
      },
      "execution_count": null,
      "outputs": [
        {
          "output_type": "stream",
          "name": "stdout",
          "text": [
            "Roteiro ótimo encontrado:\n",
            "['F', 'E', 'D', 'A', 'B', 'C']\n",
            "Distância total percorrida:\n",
            "50\n"
          ]
        }
      ]
    },
    {
      "cell_type": "markdown",
      "source": [
        "Agora com 100 simulações, iniciado em uma cidade aleatória:"
      ],
      "metadata": {
        "id": "D2lJm5hrHI2X"
      }
    },
    {
      "cell_type": "code",
      "source": [
        "from collections import deque\n",
        "import random\n",
        "\n",
        "def bfs(cidade_inicial):\n",
        "    fila = deque([(cidade_inicial, [cidade_inicial], 0)])\n",
        "    menor_distancia = float('inf')\n",
        "    caminho_otimo = None\n",
        "\n",
        "    while fila:\n",
        "        cidade_atual, caminho_atual, distancia_atual = fila.popleft()\n",
        "\n",
        "        if len(caminho_atual) == len(cidades):\n",
        "            # Encontrou um roteiro completo\n",
        "            if distancia_atual < menor_distancia:\n",
        "                menor_distancia = distancia_atual\n",
        "                caminho_otimo = caminho_atual\n",
        "            continue\n",
        "\n",
        "        for cidade_vizinha in distancias[cidade_atual]:\n",
        "            if cidade_vizinha not in caminho_atual:\n",
        "                # Visitando uma cidade vizinha não visitada ainda\n",
        "                nova_distancia = distancia_atual + distancias[cidade_atual][cidade_vizinha]\n",
        "                fila.append((cidade_vizinha, caminho_atual + [cidade_vizinha], nova_distancia))\n",
        "\n",
        "    return caminho_otimo, menor_distancia\n",
        "\n",
        "menor_distancia_global = float('inf')\n",
        "caminho_otimo_global = None\n",
        "\n",
        "# Realizar 100 simulações\n",
        "for _ in range(100):\n",
        "    # Definir a cidade de partida aleatoriamente\n",
        "    cidade_inicial = random.choice(cidades)\n",
        "\n",
        "    # Executar o algoritmo BFS\n",
        "    caminho_otimo, distancia_otima = bfs(cidade_inicial)\n",
        "\n",
        "    # Atualizar o menor roteiro global, se necessário\n",
        "    if distancia_otima < menor_distancia_global:\n",
        "        menor_distancia_global = distancia_otima\n",
        "        caminho_otimo_global = caminho_otimo\n",
        "\n",
        "if caminho_otimo_global:\n",
        "    print(\"Roteiro ótimo encontrado:\")\n",
        "    print(caminho_otimo_global)\n",
        "    print(\"Distância total percorrida:\")\n",
        "    print(menor_distancia_global)\n",
        "else:\n",
        "    print(\"Não foi possível encontrar um roteiro ótimo.\")\n"
      ],
      "metadata": {
        "id": "ehRkn-pIHNJJ",
        "colab": {
          "base_uri": "https://localhost:8080/"
        },
        "outputId": "94105ee7-379d-4864-b304-3d9a37357f82"
      },
      "execution_count": null,
      "outputs": [
        {
          "output_type": "stream",
          "name": "stdout",
          "text": [
            "Roteiro ótimo encontrado:\n",
            "['C', 'B', 'A', 'D', 'E', 'F']\n",
            "Distância total percorrida:\n",
            "50\n"
          ]
        }
      ]
    },
    {
      "cell_type": "markdown",
      "source": [
        "#Análise Comparativa\n",
        "\n"
      ],
      "metadata": {
        "id": "RSpWCEEqQKEA"
      }
    },
    {
      "cell_type": "markdown",
      "source": [
        "| Simulações     | Genético | A* | Árvore de Decisão | DFS | BFS |\n",
        "|----------|------------------|---------------------|--------------------------|--------|--------------|\n",
        "| 1     | 50| -| 65| 110 | 50 |\n",
        "| 100   | 50|-| 50| 80 | 50 |\n",
        "\n",
        "O algortímo A* falhou nessa implementação.\n",
        "\n",
        "Vale ressaltar que ambas DFS e BFS começaram na cidade 'F' na simuação única e em cidades aleatórias em 100 simulações.\n"
      ],
      "metadata": {
        "id": "AKhRyTEsQ5jd"
      }
    },
    {
      "cell_type": "code",
      "source": [
        "import matplotlib.pyplot as plt\n",
        "\n",
        "left_coordinates = [1, 3, 5, 7] \n",
        "heights = [50, 65, 110, 50]\n",
        "bar_labels = ['Genético', 'Árvore de Decisão', 'DFS', 'BFS']\n",
        "plt.bar(left_coordinates,heights,\n",
        "        tick_label=bar_labels,width=1,color=['red','black'])\n",
        "plt.xlabel('Algorítmos')\n",
        "plt.ylabel('Distancia')\n",
        "plt.title(\"Distancia em simulação única\")\n",
        "plt.show()"
      ],
      "metadata": {
        "colab": {
          "base_uri": "https://localhost:8080/",
          "height": 473
        },
        "id": "3Lm3bBnASt6f",
        "outputId": "f179a432-eb04-4b88-e0a5-69d272cb10c8"
      },
      "execution_count": null,
      "outputs": [
        {
          "output_type": "display_data",
          "data": {
            "text/plain": [
              "<Figure size 640x480 with 1 Axes>"
            ],
            "image/png": "[encoded data removed]"
          },
          "metadata": {}
        }
      ]
    },
    {
      "cell_type": "code",
      "source": [
        "import matplotlib.pyplot as plt\n",
        "\n",
        "left_coordinates = [1, 3, 5, 7] \n",
        "heights = [50, 50, 80, 50]\n",
        "bar_labels = ['Genético', 'Árvore de Decisão', 'DFS', 'BFS']\n",
        "plt.bar(left_coordinates,heights,\n",
        "        tick_label=bar_labels,width=1,color=['blue','black'])\n",
        "plt.xlabel('Algorítmos')\n",
        "plt.ylabel('Distancia')\n",
        "plt.title(\"Distancia em 100 simulações\")\n",
        "plt.show()"
      ],
      "metadata": {
        "colab": {
          "base_uri": "https://localhost:8080/",
          "height": 472
        },
        "id": "CMGJ24d1T-do",
        "outputId": "72279159-e005-482c-ddc1-3527f1bd85ea"
      },
      "execution_count": null,
      "outputs": [
        {
          "output_type": "display_data",
          "data": {
            "text/plain": [
              "<Figure size 640x480 with 1 Axes>"
            ],
            "image/png": "[encoded data removed]"
          },
          "metadata": {}
        }
      ]
    }
  ]
}